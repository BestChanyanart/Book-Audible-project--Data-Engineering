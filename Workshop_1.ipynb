{
  "nbformat": 4,
  "nbformat_minor": 0,
  "metadata": {
    "colab": {
      "name": "Workshop_1.ipynb",
      "provenance": [],
      "collapsed_sections": [],
      "include_colab_link": true
    },
    "kernelspec": {
      "name": "python3",
      "display_name": "Python 3"
    },
    "language_info": {
      "name": "python"
    }
  },
  "cells": [
    {
      "cell_type": "markdown",
      "metadata": {
        "id": "view-in-github",
        "colab_type": "text"
      },
      "source": [
        "<a href=\"https://colab.research.google.com/github/BestChanyanart/Audio_Book_project----Data-Engineering/blob/master/Workshop_1.ipynb\" target=\"_parent\"><img src=\"https://colab.research.google.com/assets/colab-badge.svg\" alt=\"Open In Colab\"/></a>"
      ]
    },
    {
      "cell_type": "markdown",
      "source": [
        "# **Data Collection with Python**\n",
        "\n",
        "- Database \n",
        "- REST API \n"
      ],
      "metadata": {
        "id": "bbjZwIuGPUGw"
      }
    },
    {
      "cell_type": "markdown",
      "source": [
        "## **1. Get from MySQL Database**"
      ],
      "metadata": {
        "id": "IkeOdMgQP7PD"
      }
    },
    {
      "cell_type": "markdown",
      "source": [
        "### Install package for Connecting 'MySQL Database'"
      ],
      "metadata": {
        "id": "MwYerhnOSmMF"
      }
    },
    {
      "cell_type": "code",
      "execution_count": null,
      "metadata": {
        "id": "RZK7IncTPG7l"
      },
      "outputs": [],
      "source": [
        "! pip install pymysql"
      ]
    },
    {
      "cell_type": "markdown",
      "source": [
        "### Config DB Credential "
      ],
      "metadata": {
        "id": "MR4blP8yS5aR"
      }
    },
    {
      "cell_type": "code",
      "source": [
        "import os\n",
        "\n",
        "class Config: \n",
        "  MYSQL_HOST = 'PUT_HOST_HERE' \n",
        "  MYSQL_PORT = 'PUT_PORT_HERE' \n",
        "  MYSQL_USER = 'PUT_USER_HERE'\n",
        "  MYSQL_PASSWORD =  'PUT_PASS_HERE'  \n",
        "  MYSQL_DB = 'PUT_DB_NAME_HERE'\n",
        "  MYSQL_CHARSET = 'PUT_HERE'"
      ],
      "metadata": {
        "id": "1XI0bf8jQn5X"
      },
      "execution_count": null,
      "outputs": []
    },
    {
      "cell_type": "code",
      "source": [
        "# Print for checking \n",
        "print(Config.MYSQL_PORT)"
      ],
      "metadata": {
        "id": "1zy-ZPM8SImH"
      },
      "execution_count": null,
      "outputs": []
    },
    {
      "cell_type": "markdown",
      "source": [
        "### Connect to DB"
      ],
      "metadata": {
        "id": "wMgQa4tsTEcv"
      }
    },
    {
      "cell_type": "code",
      "source": [
        "import pymysql\n",
        "\n",
        "# Connect to Database\n",
        "connection = pymysql.connect(host = Config.MYSQL_HOST, \n",
        "                             port = Config.MYSQL_PORT,\n",
        "                             user = Config.MYSQL_USER,\n",
        "                             password = Config.MYSQL_PASSWORD, \n",
        "                             db = Config.MYSQL_DB, \n",
        "                             charset = Config.MYSQL_CHARSET, \n",
        "                             cursorclass = pymysql.cursors.DictCursor)\n"
      ],
      "metadata": {
        "id": "lc4tN7ZzSfgc"
      },
      "execution_count": null,
      "outputs": []
    },
    {
      "cell_type": "code",
      "source": [
        "connection"
      ],
      "metadata": {
        "colab": {
          "base_uri": "https://localhost:8080/"
        },
        "id": "HnWGDWQWUfo2",
        "outputId": "ede6b6d7-8a1d-4367-caea-5e25b57af1d5"
      },
      "execution_count": null,
      "outputs": [
        {
          "output_type": "execute_result",
          "data": {
            "text/plain": [
              "<pymysql.connections.Connection at 0x7fc377d24510>"
            ]
          },
          "metadata": {},
          "execution_count": 6
        }
      ]
    },
    {
      "cell_type": "markdown",
      "source": [
        "### List Tables"
      ],
      "metadata": {
        "id": "8mhJ-doAUocI"
      }
    },
    {
      "cell_type": "code",
      "source": [
        "# List all tables to look what we have in the table \n",
        "# 'show table' command\n",
        "\n",
        "cursor = connection.cursor()\n",
        "cursor.execute(\"show tables;\") \n",
        "tables = cursor.fetchall() \n",
        "cursor.close()\n",
        "\n",
        "print(tables)\n"
      ],
      "metadata": {
        "colab": {
          "base_uri": "https://localhost:8080/"
        },
        "id": "iUrhIkZ2UsvA",
        "outputId": "3c866eb8-3c4b-4fd7-cee7-9bdd70cff094"
      },
      "execution_count": null,
      "outputs": [
        {
          "output_type": "stream",
          "name": "stdout",
          "text": [
            "[{'Tables_in_r2de2': 'audible_data'}, {'Tables_in_r2de2': 'audible_transaction'}]\n"
          ]
        }
      ]
    },
    {
      "cell_type": "markdown",
      "source": [
        "### Query Table"
      ],
      "metadata": {
        "id": "M2KzVHb6W-yN"
      }
    },
    {
      "cell_type": "code",
      "source": [
        "# Using 'with connection.cursor() as cursor:' to query data\n",
        "\n",
        "with connection.cursor() as cursor:\n",
        "  cursor.execute(\"SELECT * FROM audible_data;\")\n",
        "  result = cursor.fetchall()\n",
        "\n",
        "print(\"Number of rows: \", len(result))\n"
      ],
      "metadata": {
        "colab": {
          "base_uri": "https://localhost:8080/"
        },
        "id": "_0G2pvdzXEf9",
        "outputId": "66fbd0df-e667-426b-dc64-e82235d75ea5"
      },
      "execution_count": null,
      "outputs": [
        {
          "output_type": "stream",
          "name": "stdout",
          "text": [
            "Number of rows:  2269\n"
          ]
        }
      ]
    },
    {
      "cell_type": "code",
      "source": [
        "result"
      ],
      "metadata": {
        "id": "_ojII9MWYr0X"
      },
      "execution_count": null,
      "outputs": []
    },
    {
      "cell_type": "code",
      "source": [
        "type(result)"
      ],
      "metadata": {
        "colab": {
          "base_uri": "https://localhost:8080/"
        },
        "id": "RM33EJ41Y5yF",
        "outputId": "30f9f9f9-61b8-49f9-ccda-a3b545dca79b"
      },
      "execution_count": null,
      "outputs": [
        {
          "output_type": "execute_result",
          "data": {
            "text/plain": [
              "list"
            ]
          },
          "metadata": {},
          "execution_count": 11
        }
      ]
    },
    {
      "cell_type": "markdown",
      "source": [
        "### Convert to Pandas"
      ],
      "metadata": {
        "id": "_vYfPwBkY86w"
      }
    },
    {
      "cell_type": "code",
      "source": [
        "import pandas as pd"
      ],
      "metadata": {
        "id": "hp6GM4pMZCUQ"
      },
      "execution_count": null,
      "outputs": []
    },
    {
      "cell_type": "code",
      "source": [
        "audible_data = pd.DataFrame(result)"
      ],
      "metadata": {
        "id": "7T0poBSvZHGv"
      },
      "execution_count": null,
      "outputs": []
    },
    {
      "cell_type": "code",
      "source": [
        "type(audible_data)"
      ],
      "metadata": {
        "colab": {
          "base_uri": "https://localhost:8080/"
        },
        "id": "49TO-EpRZaD3",
        "outputId": "6b4d20de-ca1a-4694-cc15-e4158c4b5947"
      },
      "execution_count": null,
      "outputs": [
        {
          "output_type": "execute_result",
          "data": {
            "text/plain": [
              "pandas.core.frame.DataFrame"
            ]
          },
          "metadata": {},
          "execution_count": 16
        }
      ]
    },
    {
      "cell_type": "code",
      "source": [
        "audible_data"
      ],
      "metadata": {
        "colab": {
          "base_uri": "https://localhost:8080/",
          "height": 1000
        },
        "id": "BStsK5B0ZdTZ",
        "outputId": "5db2f702-04a8-4d3e-c466-0e7c1a881e55"
      },
      "execution_count": null,
      "outputs": [
        {
          "output_type": "execute_result",
          "data": {
            "text/html": [
              "<div>\n",
              "<style scoped>\n",
              "    .dataframe tbody tr th:only-of-type {\n",
              "        vertical-align: middle;\n",
              "    }\n",
              "\n",
              "    .dataframe tbody tr th {\n",
              "        vertical-align: top;\n",
              "    }\n",
              "\n",
              "    .dataframe thead th {\n",
              "        text-align: right;\n",
              "    }\n",
              "</style>\n",
              "<table border=\"1\" class=\"dataframe\">\n",
              "  <thead>\n",
              "    <tr style=\"text-align: right;\">\n",
              "      <th></th>\n",
              "      <th>Book_ID</th>\n",
              "      <th>Book Title</th>\n",
              "      <th>Book Subtitle</th>\n",
              "      <th>Book Author</th>\n",
              "      <th>Book Narrator</th>\n",
              "      <th>Audio Runtime</th>\n",
              "      <th>Audiobook_Type</th>\n",
              "      <th>Categories</th>\n",
              "      <th>Rating</th>\n",
              "      <th>Total No. of Ratings</th>\n",
              "      <th>Price</th>\n",
              "    </tr>\n",
              "  </thead>\n",
              "  <tbody>\n",
              "    <tr>\n",
              "      <th>0</th>\n",
              "      <td>1</td>\n",
              "      <td>Bamboozled by Jesus</td>\n",
              "      <td>How God Tricked Me into the Life of My Dreams</td>\n",
              "      <td>Yvonne Orji</td>\n",
              "      <td>Yvonne Orji</td>\n",
              "      <td>6 hrs and 31 mins</td>\n",
              "      <td>Unabridged Audiobook</td>\n",
              "      <td>Biographies &amp; Memoirs</td>\n",
              "      <td>5</td>\n",
              "      <td>47.0</td>\n",
              "      <td>$29.65</td>\n",
              "    </tr>\n",
              "    <tr>\n",
              "      <th>1</th>\n",
              "      <td>2</td>\n",
              "      <td>Sixth Realm Part 1</td>\n",
              "      <td>A LitRPG Fantasy Series (The Ten Realms, Book 6)</td>\n",
              "      <td>Michael Chatfield</td>\n",
              "      <td>Neil Hellegers</td>\n",
              "      <td>13 hrs and 33 mins</td>\n",
              "      <td>Unabridged Audiobook</td>\n",
              "      <td>Science Fiction &amp; Fantasy</td>\n",
              "      <td>4.5</td>\n",
              "      <td>98.0</td>\n",
              "      <td>$24.95</td>\n",
              "    </tr>\n",
              "    <tr>\n",
              "      <th>2</th>\n",
              "      <td>3</td>\n",
              "      <td>Go Tell the Bees That I Am Gone</td>\n",
              "      <td>Outlander, Book 9</td>\n",
              "      <td>Diana Gabaldon</td>\n",
              "      <td>Davina Porter</td>\n",
              "      <td>27 hrs and 30 mins</td>\n",
              "      <td>Unabridged Audiobook</td>\n",
              "      <td>Science Fiction &amp; Fantasy</td>\n",
              "      <td>None</td>\n",
              "      <td>NaN</td>\n",
              "      <td>$41.99</td>\n",
              "    </tr>\n",
              "    <tr>\n",
              "      <th>3</th>\n",
              "      <td>4</td>\n",
              "      <td>How the Word Is Passed</td>\n",
              "      <td>A Reckoning with the History of Slavery Across...</td>\n",
              "      <td>Clint Smith</td>\n",
              "      <td>Clint Smith</td>\n",
              "      <td>10 hrs and 7 mins</td>\n",
              "      <td>Unabridged Audiobook</td>\n",
              "      <td>History</td>\n",
              "      <td>None</td>\n",
              "      <td>NaN</td>\n",
              "      <td>$29.65</td>\n",
              "    </tr>\n",
              "    <tr>\n",
              "      <th>4</th>\n",
              "      <td>5</td>\n",
              "      <td>The Devil May Dance</td>\n",
              "      <td>A Novel</td>\n",
              "      <td>Jake Tapper</td>\n",
              "      <td>Rob Shapiro</td>\n",
              "      <td>10 hrs and 12 mins</td>\n",
              "      <td>Unabridged Audiobook</td>\n",
              "      <td>Mystery, Thriller &amp; Suspense</td>\n",
              "      <td>4.5</td>\n",
              "      <td>108.0</td>\n",
              "      <td>$29.65</td>\n",
              "    </tr>\n",
              "    <tr>\n",
              "      <th>...</th>\n",
              "      <td>...</td>\n",
              "      <td>...</td>\n",
              "      <td>...</td>\n",
              "      <td>...</td>\n",
              "      <td>...</td>\n",
              "      <td>...</td>\n",
              "      <td>...</td>\n",
              "      <td>...</td>\n",
              "      <td>...</td>\n",
              "      <td>...</td>\n",
              "      <td>...</td>\n",
              "    </tr>\n",
              "    <tr>\n",
              "      <th>2264</th>\n",
              "      <td>2265</td>\n",
              "      <td>Kama Sutra</td>\n",
              "      <td>Become a Master of the Art of Love Making. Tan...</td>\n",
              "      <td>Eva Becker</td>\n",
              "      <td>ChasMandala</td>\n",
              "      <td>3 hrs and 29 mins</td>\n",
              "      <td>Unabridged Audiobook</td>\n",
              "      <td>Erotica</td>\n",
              "      <td>5</td>\n",
              "      <td>203.0</td>\n",
              "      <td>$14.95</td>\n",
              "    </tr>\n",
              "    <tr>\n",
              "      <th>2265</th>\n",
              "      <td>2266</td>\n",
              "      <td>Meditación Práctica para Principiantes [Prac...</td>\n",
              "      <td>Una guía para principiantes para aliviar la an...</td>\n",
              "      <td>Taylor Knox</td>\n",
              "      <td>William Ditilio</td>\n",
              "      <td>3 hrs and 14 mins</td>\n",
              "      <td>Unabridged Audiobook</td>\n",
              "      <td>Health &amp; Wellness</td>\n",
              "      <td>5</td>\n",
              "      <td>203.0</td>\n",
              "      <td>$14.95</td>\n",
              "    </tr>\n",
              "    <tr>\n",
              "      <th>2266</th>\n",
              "      <td>2267</td>\n",
              "      <td>Forgotten</td>\n",
              "      <td>The Untold Story of D-day's Black Heroes, at H...</td>\n",
              "      <td>Linda Hervieux</td>\n",
              "      <td>Ron Butler</td>\n",
              "      <td>9 hrs and 33 mins</td>\n",
              "      <td>Unabridged Audiobook</td>\n",
              "      <td>History</td>\n",
              "      <td>4.6</td>\n",
              "      <td>70.0</td>\n",
              "      <td>$24.95</td>\n",
              "    </tr>\n",
              "    <tr>\n",
              "      <th>2267</th>\n",
              "      <td>2268</td>\n",
              "      <td>The Missing</td>\n",
              "      <td>None</td>\n",
              "      <td>Daisy Pearce</td>\n",
              "      <td>Karen Cass</td>\n",
              "      <td>10 hrs and 18 mins</td>\n",
              "      <td>Unabridged Audiobook</td>\n",
              "      <td>Mystery, Thriller &amp; Suspense</td>\n",
              "      <td>4.2</td>\n",
              "      <td>141.0</td>\n",
              "      <td>$30.09</td>\n",
              "    </tr>\n",
              "    <tr>\n",
              "      <th>2268</th>\n",
              "      <td>2269</td>\n",
              "      <td>Becoming</td>\n",
              "      <td>None</td>\n",
              "      <td>Michelle Obama</td>\n",
              "      <td>Michelle Obama</td>\n",
              "      <td>19 hrs and 3 mins</td>\n",
              "      <td>Unabridged Audiobook</td>\n",
              "      <td>Biographies &amp; Memoirs</td>\n",
              "      <td>4.9</td>\n",
              "      <td>167195.0</td>\n",
              "      <td>$35.71</td>\n",
              "    </tr>\n",
              "  </tbody>\n",
              "</table>\n",
              "<p>2269 rows × 11 columns</p>\n",
              "</div>"
            ],
            "text/plain": [
              "      Book_ID  ...    Price\n",
              "0           1  ...  $29.65 \n",
              "1           2  ...  $24.95 \n",
              "2           3  ...  $41.99 \n",
              "3           4  ...  $29.65 \n",
              "4           5  ...  $29.65 \n",
              "...       ...  ...      ...\n",
              "2264     2265  ...  $14.95 \n",
              "2265     2266  ...  $14.95 \n",
              "2266     2267  ...  $24.95 \n",
              "2267     2268  ...  $30.09 \n",
              "2268     2269  ...  $35.71 \n",
              "\n",
              "[2269 rows x 11 columns]"
            ]
          },
          "metadata": {},
          "execution_count": 17
        }
      ]
    },
    {
      "cell_type": "code",
      "source": [
        "# Convert Book_ID as index\n",
        "\n",
        "audible_data = audible_data.set_index(\"Book_ID\")"
      ],
      "metadata": {
        "id": "in4Ou6kdZsnm"
      },
      "execution_count": null,
      "outputs": []
    },
    {
      "cell_type": "code",
      "source": [
        "audible_data"
      ],
      "metadata": {
        "colab": {
          "base_uri": "https://localhost:8080/",
          "height": 1000
        },
        "id": "IhovqpW6aSxp",
        "outputId": "e1931c57-b4c5-4f13-dc93-f9bcec535f4a"
      },
      "execution_count": null,
      "outputs": [
        {
          "output_type": "execute_result",
          "data": {
            "text/html": [
              "<div>\n",
              "<style scoped>\n",
              "    .dataframe tbody tr th:only-of-type {\n",
              "        vertical-align: middle;\n",
              "    }\n",
              "\n",
              "    .dataframe tbody tr th {\n",
              "        vertical-align: top;\n",
              "    }\n",
              "\n",
              "    .dataframe thead th {\n",
              "        text-align: right;\n",
              "    }\n",
              "</style>\n",
              "<table border=\"1\" class=\"dataframe\">\n",
              "  <thead>\n",
              "    <tr style=\"text-align: right;\">\n",
              "      <th></th>\n",
              "      <th>Book Title</th>\n",
              "      <th>Book Subtitle</th>\n",
              "      <th>Book Author</th>\n",
              "      <th>Book Narrator</th>\n",
              "      <th>Audio Runtime</th>\n",
              "      <th>Audiobook_Type</th>\n",
              "      <th>Categories</th>\n",
              "      <th>Rating</th>\n",
              "      <th>Total No. of Ratings</th>\n",
              "      <th>Price</th>\n",
              "    </tr>\n",
              "    <tr>\n",
              "      <th>Book_ID</th>\n",
              "      <th></th>\n",
              "      <th></th>\n",
              "      <th></th>\n",
              "      <th></th>\n",
              "      <th></th>\n",
              "      <th></th>\n",
              "      <th></th>\n",
              "      <th></th>\n",
              "      <th></th>\n",
              "      <th></th>\n",
              "    </tr>\n",
              "  </thead>\n",
              "  <tbody>\n",
              "    <tr>\n",
              "      <th>1</th>\n",
              "      <td>Bamboozled by Jesus</td>\n",
              "      <td>How God Tricked Me into the Life of My Dreams</td>\n",
              "      <td>Yvonne Orji</td>\n",
              "      <td>Yvonne Orji</td>\n",
              "      <td>6 hrs and 31 mins</td>\n",
              "      <td>Unabridged Audiobook</td>\n",
              "      <td>Biographies &amp; Memoirs</td>\n",
              "      <td>5</td>\n",
              "      <td>47.0</td>\n",
              "      <td>$29.65</td>\n",
              "    </tr>\n",
              "    <tr>\n",
              "      <th>2</th>\n",
              "      <td>Sixth Realm Part 1</td>\n",
              "      <td>A LitRPG Fantasy Series (The Ten Realms, Book 6)</td>\n",
              "      <td>Michael Chatfield</td>\n",
              "      <td>Neil Hellegers</td>\n",
              "      <td>13 hrs and 33 mins</td>\n",
              "      <td>Unabridged Audiobook</td>\n",
              "      <td>Science Fiction &amp; Fantasy</td>\n",
              "      <td>4.5</td>\n",
              "      <td>98.0</td>\n",
              "      <td>$24.95</td>\n",
              "    </tr>\n",
              "    <tr>\n",
              "      <th>3</th>\n",
              "      <td>Go Tell the Bees That I Am Gone</td>\n",
              "      <td>Outlander, Book 9</td>\n",
              "      <td>Diana Gabaldon</td>\n",
              "      <td>Davina Porter</td>\n",
              "      <td>27 hrs and 30 mins</td>\n",
              "      <td>Unabridged Audiobook</td>\n",
              "      <td>Science Fiction &amp; Fantasy</td>\n",
              "      <td>None</td>\n",
              "      <td>NaN</td>\n",
              "      <td>$41.99</td>\n",
              "    </tr>\n",
              "    <tr>\n",
              "      <th>4</th>\n",
              "      <td>How the Word Is Passed</td>\n",
              "      <td>A Reckoning with the History of Slavery Across...</td>\n",
              "      <td>Clint Smith</td>\n",
              "      <td>Clint Smith</td>\n",
              "      <td>10 hrs and 7 mins</td>\n",
              "      <td>Unabridged Audiobook</td>\n",
              "      <td>History</td>\n",
              "      <td>None</td>\n",
              "      <td>NaN</td>\n",
              "      <td>$29.65</td>\n",
              "    </tr>\n",
              "    <tr>\n",
              "      <th>5</th>\n",
              "      <td>The Devil May Dance</td>\n",
              "      <td>A Novel</td>\n",
              "      <td>Jake Tapper</td>\n",
              "      <td>Rob Shapiro</td>\n",
              "      <td>10 hrs and 12 mins</td>\n",
              "      <td>Unabridged Audiobook</td>\n",
              "      <td>Mystery, Thriller &amp; Suspense</td>\n",
              "      <td>4.5</td>\n",
              "      <td>108.0</td>\n",
              "      <td>$29.65</td>\n",
              "    </tr>\n",
              "    <tr>\n",
              "      <th>...</th>\n",
              "      <td>...</td>\n",
              "      <td>...</td>\n",
              "      <td>...</td>\n",
              "      <td>...</td>\n",
              "      <td>...</td>\n",
              "      <td>...</td>\n",
              "      <td>...</td>\n",
              "      <td>...</td>\n",
              "      <td>...</td>\n",
              "      <td>...</td>\n",
              "    </tr>\n",
              "    <tr>\n",
              "      <th>2265</th>\n",
              "      <td>Kama Sutra</td>\n",
              "      <td>Become a Master of the Art of Love Making. Tan...</td>\n",
              "      <td>Eva Becker</td>\n",
              "      <td>ChasMandala</td>\n",
              "      <td>3 hrs and 29 mins</td>\n",
              "      <td>Unabridged Audiobook</td>\n",
              "      <td>Erotica</td>\n",
              "      <td>5</td>\n",
              "      <td>203.0</td>\n",
              "      <td>$14.95</td>\n",
              "    </tr>\n",
              "    <tr>\n",
              "      <th>2266</th>\n",
              "      <td>Meditación Práctica para Principiantes [Prac...</td>\n",
              "      <td>Una guía para principiantes para aliviar la an...</td>\n",
              "      <td>Taylor Knox</td>\n",
              "      <td>William Ditilio</td>\n",
              "      <td>3 hrs and 14 mins</td>\n",
              "      <td>Unabridged Audiobook</td>\n",
              "      <td>Health &amp; Wellness</td>\n",
              "      <td>5</td>\n",
              "      <td>203.0</td>\n",
              "      <td>$14.95</td>\n",
              "    </tr>\n",
              "    <tr>\n",
              "      <th>2267</th>\n",
              "      <td>Forgotten</td>\n",
              "      <td>The Untold Story of D-day's Black Heroes, at H...</td>\n",
              "      <td>Linda Hervieux</td>\n",
              "      <td>Ron Butler</td>\n",
              "      <td>9 hrs and 33 mins</td>\n",
              "      <td>Unabridged Audiobook</td>\n",
              "      <td>History</td>\n",
              "      <td>4.6</td>\n",
              "      <td>70.0</td>\n",
              "      <td>$24.95</td>\n",
              "    </tr>\n",
              "    <tr>\n",
              "      <th>2268</th>\n",
              "      <td>The Missing</td>\n",
              "      <td>None</td>\n",
              "      <td>Daisy Pearce</td>\n",
              "      <td>Karen Cass</td>\n",
              "      <td>10 hrs and 18 mins</td>\n",
              "      <td>Unabridged Audiobook</td>\n",
              "      <td>Mystery, Thriller &amp; Suspense</td>\n",
              "      <td>4.2</td>\n",
              "      <td>141.0</td>\n",
              "      <td>$30.09</td>\n",
              "    </tr>\n",
              "    <tr>\n",
              "      <th>2269</th>\n",
              "      <td>Becoming</td>\n",
              "      <td>None</td>\n",
              "      <td>Michelle Obama</td>\n",
              "      <td>Michelle Obama</td>\n",
              "      <td>19 hrs and 3 mins</td>\n",
              "      <td>Unabridged Audiobook</td>\n",
              "      <td>Biographies &amp; Memoirs</td>\n",
              "      <td>4.9</td>\n",
              "      <td>167195.0</td>\n",
              "      <td>$35.71</td>\n",
              "    </tr>\n",
              "  </tbody>\n",
              "</table>\n",
              "<p>2269 rows × 10 columns</p>\n",
              "</div>"
            ],
            "text/plain": [
              "                                                Book Title  ...    Price\n",
              "Book_ID                                                     ...         \n",
              "1                                      Bamboozled by Jesus  ...  $29.65 \n",
              "2                                       Sixth Realm Part 1  ...  $24.95 \n",
              "3                          Go Tell the Bees That I Am Gone  ...  $41.99 \n",
              "4                                   How the Word Is Passed  ...  $29.65 \n",
              "5                                      The Devil May Dance  ...  $29.65 \n",
              "...                                                    ...  ...      ...\n",
              "2265                                            Kama Sutra  ...  $14.95 \n",
              "2266     Meditación Práctica para Principiantes [Prac...  ...  $14.95 \n",
              "2267                                             Forgotten  ...  $24.95 \n",
              "2268                                           The Missing  ...  $30.09 \n",
              "2269                                              Becoming  ...  $35.71 \n",
              "\n",
              "[2269 rows x 10 columns]"
            ]
          },
          "metadata": {},
          "execution_count": 20
        }
      ]
    },
    {
      "cell_type": "markdown",
      "source": [
        "### Query with Pandas"
      ],
      "metadata": {
        "id": "vYe9NV_-aWhV"
      }
    },
    {
      "cell_type": "code",
      "source": [
        "# Query by using read_sql() \n",
        "sql = \"SELECT * FROM audible_transaction\"\n",
        "audible_transaction = pd.read_sql(sql, connection)\n",
        "\n",
        "audible_transaction"
      ],
      "metadata": {
        "colab": {
          "base_uri": "https://localhost:8080/",
          "height": 423
        },
        "id": "Nc0EFE7OaVyC",
        "outputId": "710b2dbb-d5c6-409a-9d62-ccf12a4dba37"
      },
      "execution_count": null,
      "outputs": [
        {
          "output_type": "execute_result",
          "data": {
            "text/html": [
              "<div>\n",
              "<style scoped>\n",
              "    .dataframe tbody tr th:only-of-type {\n",
              "        vertical-align: middle;\n",
              "    }\n",
              "\n",
              "    .dataframe tbody tr th {\n",
              "        vertical-align: top;\n",
              "    }\n",
              "\n",
              "    .dataframe thead th {\n",
              "        text-align: right;\n",
              "    }\n",
              "</style>\n",
              "<table border=\"1\" class=\"dataframe\">\n",
              "  <thead>\n",
              "    <tr style=\"text-align: right;\">\n",
              "      <th></th>\n",
              "      <th>timestamp</th>\n",
              "      <th>user_id</th>\n",
              "      <th>book_id</th>\n",
              "      <th>country</th>\n",
              "    </tr>\n",
              "  </thead>\n",
              "  <tbody>\n",
              "    <tr>\n",
              "      <th>0</th>\n",
              "      <td>2021-05-01 00:00:01</td>\n",
              "      <td>ad8eca41</td>\n",
              "      <td>1584</td>\n",
              "      <td>Portugal</td>\n",
              "    </tr>\n",
              "    <tr>\n",
              "      <th>1</th>\n",
              "      <td>2021-05-01 00:00:03</td>\n",
              "      <td>561b26c1</td>\n",
              "      <td>829</td>\n",
              "      <td>United States of America</td>\n",
              "    </tr>\n",
              "    <tr>\n",
              "      <th>2</th>\n",
              "      <td>2021-05-01 00:00:04</td>\n",
              "      <td>81f149e5</td>\n",
              "      <td>1391</td>\n",
              "      <td>Japan</td>\n",
              "    </tr>\n",
              "    <tr>\n",
              "      <th>3</th>\n",
              "      <td>2021-05-01 00:00:07</td>\n",
              "      <td>4f218413</td>\n",
              "      <td>1586</td>\n",
              "      <td>Taiwan</td>\n",
              "    </tr>\n",
              "    <tr>\n",
              "      <th>4</th>\n",
              "      <td>2021-05-01 00:00:18</td>\n",
              "      <td>a4066781</td>\n",
              "      <td>300</td>\n",
              "      <td>United States of America</td>\n",
              "    </tr>\n",
              "    <tr>\n",
              "      <th>...</th>\n",
              "      <td>...</td>\n",
              "      <td>...</td>\n",
              "      <td>...</td>\n",
              "      <td>...</td>\n",
              "    </tr>\n",
              "    <tr>\n",
              "      <th>1998816</th>\n",
              "      <td>2021-07-31 23:59:47</td>\n",
              "      <td>72da1411</td>\n",
              "      <td>600</td>\n",
              "      <td>Portugal</td>\n",
              "    </tr>\n",
              "    <tr>\n",
              "      <th>1998817</th>\n",
              "      <td>2021-07-31 23:59:48</td>\n",
              "      <td>620c27c8</td>\n",
              "      <td>462</td>\n",
              "      <td>Montenegro</td>\n",
              "    </tr>\n",
              "    <tr>\n",
              "      <th>1998818</th>\n",
              "      <td>2021-07-31 23:59:55</td>\n",
              "      <td>84fe88ab</td>\n",
              "      <td>1656</td>\n",
              "      <td>United States of America</td>\n",
              "    </tr>\n",
              "    <tr>\n",
              "      <th>1998819</th>\n",
              "      <td>2021-07-31 23:59:57</td>\n",
              "      <td>fd6cc4fc</td>\n",
              "      <td>522</td>\n",
              "      <td>United States of America</td>\n",
              "    </tr>\n",
              "    <tr>\n",
              "      <th>1998820</th>\n",
              "      <td>2021-07-31 23:59:59</td>\n",
              "      <td>9f4d5e3b</td>\n",
              "      <td>110</td>\n",
              "      <td>United States of America</td>\n",
              "    </tr>\n",
              "  </tbody>\n",
              "</table>\n",
              "<p>1998821 rows × 4 columns</p>\n",
              "</div>"
            ],
            "text/plain": [
              "                  timestamp   user_id  book_id                   country\n",
              "0       2021-05-01 00:00:01  ad8eca41     1584                  Portugal\n",
              "1       2021-05-01 00:00:03  561b26c1      829  United States of America\n",
              "2       2021-05-01 00:00:04  81f149e5     1391                     Japan\n",
              "3       2021-05-01 00:00:07  4f218413     1586                    Taiwan\n",
              "4       2021-05-01 00:00:18  a4066781      300  United States of America\n",
              "...                     ...       ...      ...                       ...\n",
              "1998816 2021-07-31 23:59:47  72da1411      600                  Portugal\n",
              "1998817 2021-07-31 23:59:48  620c27c8      462                Montenegro\n",
              "1998818 2021-07-31 23:59:55  84fe88ab     1656  United States of America\n",
              "1998819 2021-07-31 23:59:57  fd6cc4fc      522  United States of America\n",
              "1998820 2021-07-31 23:59:59  9f4d5e3b      110  United States of America\n",
              "\n",
              "[1998821 rows x 4 columns]"
            ]
          },
          "metadata": {},
          "execution_count": 21
        }
      ]
    },
    {
      "cell_type": "markdown",
      "source": [
        "### Join table: audible_transaction & audible_data\n",
        "\n",
        "- join with Primary key \"Book_ID\""
      ],
      "metadata": {
        "id": "5LMzzb8vbS7R"
      }
    },
    {
      "cell_type": "code",
      "source": [
        "transaction = audible_transaction.merge(audible_data, \n",
        "                                        how = \"left\", \n",
        "                                        left_on = \"book_id\", \n",
        "                                        right_on = \"Book_ID\")"
      ],
      "metadata": {
        "id": "bH6tPyUnbi-R"
      },
      "execution_count": null,
      "outputs": []
    },
    {
      "cell_type": "code",
      "source": [
        "transaction"
      ],
      "metadata": {
        "colab": {
          "base_uri": "https://localhost:8080/",
          "height": 929
        },
        "id": "hUBdUdSocH8Q",
        "outputId": "b7a33251-7691-4859-8efd-84789f15fce0"
      },
      "execution_count": null,
      "outputs": [
        {
          "output_type": "execute_result",
          "data": {
            "text/html": [
              "<div>\n",
              "<style scoped>\n",
              "    .dataframe tbody tr th:only-of-type {\n",
              "        vertical-align: middle;\n",
              "    }\n",
              "\n",
              "    .dataframe tbody tr th {\n",
              "        vertical-align: top;\n",
              "    }\n",
              "\n",
              "    .dataframe thead th {\n",
              "        text-align: right;\n",
              "    }\n",
              "</style>\n",
              "<table border=\"1\" class=\"dataframe\">\n",
              "  <thead>\n",
              "    <tr style=\"text-align: right;\">\n",
              "      <th></th>\n",
              "      <th>timestamp</th>\n",
              "      <th>user_id</th>\n",
              "      <th>book_id</th>\n",
              "      <th>country</th>\n",
              "      <th>Book Title</th>\n",
              "      <th>Book Subtitle</th>\n",
              "      <th>Book Author</th>\n",
              "      <th>Book Narrator</th>\n",
              "      <th>Audio Runtime</th>\n",
              "      <th>Audiobook_Type</th>\n",
              "      <th>Categories</th>\n",
              "      <th>Rating</th>\n",
              "      <th>Total No. of Ratings</th>\n",
              "      <th>Price</th>\n",
              "    </tr>\n",
              "  </thead>\n",
              "  <tbody>\n",
              "    <tr>\n",
              "      <th>0</th>\n",
              "      <td>2021-05-01 00:00:01</td>\n",
              "      <td>ad8eca41</td>\n",
              "      <td>1584</td>\n",
              "      <td>Portugal</td>\n",
              "      <td>Sycamore Row</td>\n",
              "      <td>None</td>\n",
              "      <td>John Grisham</td>\n",
              "      <td>Michael Beck</td>\n",
              "      <td>20 hrs and 46 mins</td>\n",
              "      <td>Unabridged Audiobook</td>\n",
              "      <td>Mystery, Thriller &amp; Suspense</td>\n",
              "      <td>4.6</td>\n",
              "      <td>25863.0</td>\n",
              "      <td>$35.00</td>\n",
              "    </tr>\n",
              "    <tr>\n",
              "      <th>1</th>\n",
              "      <td>2021-05-01 00:00:03</td>\n",
              "      <td>561b26c1</td>\n",
              "      <td>829</td>\n",
              "      <td>United States of America</td>\n",
              "      <td>The 5 Love Languages of Children</td>\n",
              "      <td>The Secret to Loving Children Effectively</td>\n",
              "      <td>Gary Chapman</td>\n",
              "      <td>Chris Fabry</td>\n",
              "      <td>5 hrs and 48 mins</td>\n",
              "      <td>Unabridged Audiobook</td>\n",
              "      <td>Relationships, Parenting &amp; Personal Development</td>\n",
              "      <td>4.8</td>\n",
              "      <td>2441.0</td>\n",
              "      <td>$19.59</td>\n",
              "    </tr>\n",
              "    <tr>\n",
              "      <th>2</th>\n",
              "      <td>2021-05-01 00:00:04</td>\n",
              "      <td>81f149e5</td>\n",
              "      <td>1391</td>\n",
              "      <td>Japan</td>\n",
              "      <td>The Guardians</td>\n",
              "      <td>A Novel</td>\n",
              "      <td>John Grisham</td>\n",
              "      <td>Michael Beck</td>\n",
              "      <td>11 hrs and 50 mins</td>\n",
              "      <td>Unabridged Audiobook</td>\n",
              "      <td>Mystery, Thriller &amp; Suspense</td>\n",
              "      <td>4.6</td>\n",
              "      <td>26781.0</td>\n",
              "      <td>$31.50</td>\n",
              "    </tr>\n",
              "    <tr>\n",
              "      <th>3</th>\n",
              "      <td>2021-05-01 00:00:07</td>\n",
              "      <td>4f218413</td>\n",
              "      <td>1586</td>\n",
              "      <td>Taiwan</td>\n",
              "      <td>How to Be a 3% Man</td>\n",
              "      <td>None</td>\n",
              "      <td>Corey Wayne</td>\n",
              "      <td>Corey Wayne</td>\n",
              "      <td>7 hrs and 33 mins</td>\n",
              "      <td>Unabridged Audiobook</td>\n",
              "      <td>Relationships, Parenting &amp; Personal Development</td>\n",
              "      <td>4.8</td>\n",
              "      <td>11459.0</td>\n",
              "      <td>$19.95</td>\n",
              "    </tr>\n",
              "    <tr>\n",
              "      <th>4</th>\n",
              "      <td>2021-05-01 00:00:18</td>\n",
              "      <td>a4066781</td>\n",
              "      <td>300</td>\n",
              "      <td>United States of America</td>\n",
              "      <td>Napoleon Hill's Outwitting the Devil</td>\n",
              "      <td>The Secret to Freedom and Success</td>\n",
              "      <td>Napoleon Hill</td>\n",
              "      <td>Dan John Miller</td>\n",
              "      <td>5 hrs and 51 mins</td>\n",
              "      <td>Unabridged Audiobook</td>\n",
              "      <td>Business &amp; Careers</td>\n",
              "      <td>4.8</td>\n",
              "      <td>9305.0</td>\n",
              "      <td>$17.49</td>\n",
              "    </tr>\n",
              "    <tr>\n",
              "      <th>...</th>\n",
              "      <td>...</td>\n",
              "      <td>...</td>\n",
              "      <td>...</td>\n",
              "      <td>...</td>\n",
              "      <td>...</td>\n",
              "      <td>...</td>\n",
              "      <td>...</td>\n",
              "      <td>...</td>\n",
              "      <td>...</td>\n",
              "      <td>...</td>\n",
              "      <td>...</td>\n",
              "      <td>...</td>\n",
              "      <td>...</td>\n",
              "      <td>...</td>\n",
              "    </tr>\n",
              "    <tr>\n",
              "      <th>1998816</th>\n",
              "      <td>2021-07-31 23:59:47</td>\n",
              "      <td>72da1411</td>\n",
              "      <td>600</td>\n",
              "      <td>Portugal</td>\n",
              "      <td>The Time of Contempt</td>\n",
              "      <td>The Witcher, Book 2</td>\n",
              "      <td>Andrzej Sapkowski</td>\n",
              "      <td>Peter Kenny</td>\n",
              "      <td>11 hrs and 55 mins</td>\n",
              "      <td>Unabridged Audiobook</td>\n",
              "      <td>Science Fiction &amp; Fantasy</td>\n",
              "      <td>4.7</td>\n",
              "      <td>14344.0</td>\n",
              "      <td>$25.08</td>\n",
              "    </tr>\n",
              "    <tr>\n",
              "      <th>1998817</th>\n",
              "      <td>2021-07-31 23:59:48</td>\n",
              "      <td>620c27c8</td>\n",
              "      <td>462</td>\n",
              "      <td>Montenegro</td>\n",
              "      <td>Endurance</td>\n",
              "      <td>Shackleton's Incredible Voyage</td>\n",
              "      <td>Alfred Lansing</td>\n",
              "      <td>Simon Prebble</td>\n",
              "      <td>10 hrs and 20 mins</td>\n",
              "      <td>Unabridged Audiobook</td>\n",
              "      <td>History</td>\n",
              "      <td>4.7</td>\n",
              "      <td>18764.0</td>\n",
              "      <td>$24.95</td>\n",
              "    </tr>\n",
              "    <tr>\n",
              "      <th>1998818</th>\n",
              "      <td>2021-07-31 23:59:55</td>\n",
              "      <td>84fe88ab</td>\n",
              "      <td>1656</td>\n",
              "      <td>United States of America</td>\n",
              "      <td>The Spy and the Traitor</td>\n",
              "      <td>The Greatest Espionage Story of the Cold War</td>\n",
              "      <td>Ben Macintyre</td>\n",
              "      <td>John Lee</td>\n",
              "      <td>13 hrs and 20 mins</td>\n",
              "      <td>Unabridged Audiobook</td>\n",
              "      <td>Biographies &amp; Memoirs</td>\n",
              "      <td>4.8</td>\n",
              "      <td>7150.0</td>\n",
              "      <td>$31.95</td>\n",
              "    </tr>\n",
              "    <tr>\n",
              "      <th>1998819</th>\n",
              "      <td>2021-07-31 23:59:57</td>\n",
              "      <td>fd6cc4fc</td>\n",
              "      <td>522</td>\n",
              "      <td>United States of America</td>\n",
              "      <td>Lilac Girls</td>\n",
              "      <td>A Novel</td>\n",
              "      <td>Martha Hall Kelly</td>\n",
              "      <td>Cassandra Campbell</td>\n",
              "      <td>17 hrs and 30 mins</td>\n",
              "      <td>Unabridged Audiobook</td>\n",
              "      <td>Literature &amp; Fiction</td>\n",
              "      <td>4.7</td>\n",
              "      <td>19401.0</td>\n",
              "      <td>$31.50</td>\n",
              "    </tr>\n",
              "    <tr>\n",
              "      <th>1998820</th>\n",
              "      <td>2021-07-31 23:59:59</td>\n",
              "      <td>9f4d5e3b</td>\n",
              "      <td>110</td>\n",
              "      <td>United States of America</td>\n",
              "      <td>Unfu*k Yourself</td>\n",
              "      <td>Get Out of Your Head and into Your Life</td>\n",
              "      <td>Gary John Bishop</td>\n",
              "      <td>Gary John Bishop</td>\n",
              "      <td>3 hrs and 24 mins</td>\n",
              "      <td>Unabridged Audiobook</td>\n",
              "      <td>Relationships, Parenting &amp; Personal Development</td>\n",
              "      <td>4.6</td>\n",
              "      <td>73022.0</td>\n",
              "      <td>$20.52</td>\n",
              "    </tr>\n",
              "  </tbody>\n",
              "</table>\n",
              "<p>1998821 rows × 14 columns</p>\n",
              "</div>"
            ],
            "text/plain": [
              "                  timestamp   user_id  ...  Total No. of Ratings    Price\n",
              "0       2021-05-01 00:00:01  ad8eca41  ...               25863.0  $35.00 \n",
              "1       2021-05-01 00:00:03  561b26c1  ...                2441.0  $19.59 \n",
              "2       2021-05-01 00:00:04  81f149e5  ...               26781.0  $31.50 \n",
              "3       2021-05-01 00:00:07  4f218413  ...               11459.0  $19.95 \n",
              "4       2021-05-01 00:00:18  a4066781  ...                9305.0  $17.49 \n",
              "...                     ...       ...  ...                   ...      ...\n",
              "1998816 2021-07-31 23:59:47  72da1411  ...               14344.0  $25.08 \n",
              "1998817 2021-07-31 23:59:48  620c27c8  ...               18764.0  $24.95 \n",
              "1998818 2021-07-31 23:59:55  84fe88ab  ...                7150.0  $31.95 \n",
              "1998819 2021-07-31 23:59:57  fd6cc4fc  ...               19401.0  $31.50 \n",
              "1998820 2021-07-31 23:59:59  9f4d5e3b  ...               73022.0  $20.52 \n",
              "\n",
              "[1998821 rows x 14 columns]"
            ]
          },
          "metadata": {},
          "execution_count": 24
        }
      ]
    },
    {
      "cell_type": "markdown",
      "source": [
        "## **2. Get from REST API**"
      ],
      "metadata": {
        "id": "Bj2TAOx2cqT2"
      }
    },
    {
      "cell_type": "code",
      "source": [
        "! pip install requests"
      ],
      "metadata": {
        "id": "WYaStMTEcx_I"
      },
      "execution_count": null,
      "outputs": []
    },
    {
      "cell_type": "code",
      "source": [
        "import requests"
      ],
      "metadata": {
        "id": "BcBT1MfIc7L2"
      },
      "execution_count": null,
      "outputs": []
    },
    {
      "cell_type": "markdown",
      "source": [
        "### Requests Library"
      ],
      "metadata": {
        "id": "Oc2Ta9DOdIWm"
      }
    },
    {
      "cell_type": "code",
      "source": [
        "url = 'https://r2de2-workshop-vmftiryt6q-ts.a.run.app/usd_thb_conversion_rate'\n",
        "r = requests.get(url)"
      ],
      "metadata": {
        "id": "4WWgpaJIdAPR"
      },
      "execution_count": null,
      "outputs": []
    },
    {
      "cell_type": "code",
      "source": [
        "# check Does it success?\n",
        "r.status_code"
      ],
      "metadata": {
        "colab": {
          "base_uri": "https://localhost:8080/"
        },
        "id": "kAAz_sWCdw6K",
        "outputId": "1fb60bc1-a10b-4ddd-b9fe-a58663f19b85"
      },
      "execution_count": null,
      "outputs": [
        {
          "output_type": "execute_result",
          "data": {
            "text/plain": [
              "200"
            ]
          },
          "metadata": {},
          "execution_count": 34
        }
      ]
    },
    {
      "cell_type": "code",
      "source": [
        "# To get JSON file\n",
        "result_conversion_rate = r.json()\n",
        "result_conversion_rate"
      ],
      "metadata": {
        "id": "rXjBFccpexRs"
      },
      "execution_count": null,
      "outputs": []
    },
    {
      "cell_type": "code",
      "source": [
        "# To check Type of data - Is it dictionary type?\n",
        "print(type(result_conversion_rate))\n",
        "assert isinstance(result_conversion_rate, dict)"
      ],
      "metadata": {
        "colab": {
          "base_uri": "https://localhost:8080/"
        },
        "id": "3VdKLOqXd6Nu",
        "outputId": "e0c13c61-bd31-4d50-883b-e29180f4ccd6"
      },
      "execution_count": null,
      "outputs": [
        {
          "output_type": "stream",
          "name": "stdout",
          "text": [
            "<class 'dict'>\n"
          ]
        }
      ]
    },
    {
      "cell_type": "markdown",
      "source": [
        "### Convert to Pandas"
      ],
      "metadata": {
        "id": "vWHNRV-cfffm"
      }
    },
    {
      "cell_type": "code",
      "source": [
        "conversion_rate = pd.DataFrame(result_conversion_rate)"
      ],
      "metadata": {
        "id": "Tp0b2y-Xfmzk"
      },
      "execution_count": null,
      "outputs": []
    },
    {
      "cell_type": "code",
      "source": [
        "conversion_rate"
      ],
      "metadata": {
        "colab": {
          "base_uri": "https://localhost:8080/",
          "height": 423
        },
        "id": "YUe2sSPafwqq",
        "outputId": "06c91ebd-dd0d-4602-b2a0-5e08125b2fb5"
      },
      "execution_count": null,
      "outputs": [
        {
          "output_type": "execute_result",
          "data": {
            "text/html": [
              "<div>\n",
              "<style scoped>\n",
              "    .dataframe tbody tr th:only-of-type {\n",
              "        vertical-align: middle;\n",
              "    }\n",
              "\n",
              "    .dataframe tbody tr th {\n",
              "        vertical-align: top;\n",
              "    }\n",
              "\n",
              "    .dataframe thead th {\n",
              "        text-align: right;\n",
              "    }\n",
              "</style>\n",
              "<table border=\"1\" class=\"dataframe\">\n",
              "  <thead>\n",
              "    <tr style=\"text-align: right;\">\n",
              "      <th></th>\n",
              "      <th>conversion_rate</th>\n",
              "    </tr>\n",
              "  </thead>\n",
              "  <tbody>\n",
              "    <tr>\n",
              "      <th>2021-04-01</th>\n",
              "      <td>31.194</td>\n",
              "    </tr>\n",
              "    <tr>\n",
              "      <th>2021-04-02</th>\n",
              "      <td>31.290</td>\n",
              "    </tr>\n",
              "    <tr>\n",
              "      <th>2021-04-03</th>\n",
              "      <td>31.256</td>\n",
              "    </tr>\n",
              "    <tr>\n",
              "      <th>2021-04-04</th>\n",
              "      <td>31.244</td>\n",
              "    </tr>\n",
              "    <tr>\n",
              "      <th>2021-04-05</th>\n",
              "      <td>31.342</td>\n",
              "    </tr>\n",
              "    <tr>\n",
              "      <th>...</th>\n",
              "      <td>...</td>\n",
              "    </tr>\n",
              "    <tr>\n",
              "      <th>2021-08-08</th>\n",
              "      <td>33.395</td>\n",
              "    </tr>\n",
              "    <tr>\n",
              "      <th>2021-08-09</th>\n",
              "      <td>33.464</td>\n",
              "    </tr>\n",
              "    <tr>\n",
              "      <th>2021-08-10</th>\n",
              "      <td>33.460</td>\n",
              "    </tr>\n",
              "    <tr>\n",
              "      <th>2021-08-11</th>\n",
              "      <td>33.145</td>\n",
              "    </tr>\n",
              "    <tr>\n",
              "      <th>2021-08-12</th>\n",
              "      <td>33.084</td>\n",
              "    </tr>\n",
              "  </tbody>\n",
              "</table>\n",
              "<p>134 rows × 1 columns</p>\n",
              "</div>"
            ],
            "text/plain": [
              "            conversion_rate\n",
              "2021-04-01           31.194\n",
              "2021-04-02           31.290\n",
              "2021-04-03           31.256\n",
              "2021-04-04           31.244\n",
              "2021-04-05           31.342\n",
              "...                     ...\n",
              "2021-08-08           33.395\n",
              "2021-08-09           33.464\n",
              "2021-08-10           33.460\n",
              "2021-08-11           33.145\n",
              "2021-08-12           33.084\n",
              "\n",
              "[134 rows x 1 columns]"
            ]
          },
          "metadata": {},
          "execution_count": 40
        }
      ]
    },
    {
      "cell_type": "code",
      "source": [
        "# Convert Index (date) to normal column  \n",
        "conversion_rate = conversion_rate.reset_index().rename(columns={\"index\":\"date\"})\n",
        "conversion_rate[:3]"
      ],
      "metadata": {
        "colab": {
          "base_uri": "https://localhost:8080/",
          "height": 143
        },
        "id": "6eYbvZ7gfzD-",
        "outputId": "48a05ba0-7ba2-4b01-f6dc-626c3f413e7e"
      },
      "execution_count": null,
      "outputs": [
        {
          "output_type": "execute_result",
          "data": {
            "text/html": [
              "<div>\n",
              "<style scoped>\n",
              "    .dataframe tbody tr th:only-of-type {\n",
              "        vertical-align: middle;\n",
              "    }\n",
              "\n",
              "    .dataframe tbody tr th {\n",
              "        vertical-align: top;\n",
              "    }\n",
              "\n",
              "    .dataframe thead th {\n",
              "        text-align: right;\n",
              "    }\n",
              "</style>\n",
              "<table border=\"1\" class=\"dataframe\">\n",
              "  <thead>\n",
              "    <tr style=\"text-align: right;\">\n",
              "      <th></th>\n",
              "      <th>date</th>\n",
              "      <th>conversion_rate</th>\n",
              "    </tr>\n",
              "  </thead>\n",
              "  <tbody>\n",
              "    <tr>\n",
              "      <th>0</th>\n",
              "      <td>2021-04-01</td>\n",
              "      <td>31.194</td>\n",
              "    </tr>\n",
              "    <tr>\n",
              "      <th>1</th>\n",
              "      <td>2021-04-02</td>\n",
              "      <td>31.290</td>\n",
              "    </tr>\n",
              "    <tr>\n",
              "      <th>2</th>\n",
              "      <td>2021-04-03</td>\n",
              "      <td>31.256</td>\n",
              "    </tr>\n",
              "  </tbody>\n",
              "</table>\n",
              "</div>"
            ],
            "text/plain": [
              "         date  conversion_rate\n",
              "0  2021-04-01           31.194\n",
              "1  2021-04-02           31.290\n",
              "2  2021-04-03           31.256"
            ]
          },
          "metadata": {},
          "execution_count": 43
        }
      ]
    },
    {
      "cell_type": "markdown",
      "source": [
        "## JOIN data\n",
        "\n",
        "- transaction\n",
        "- conversion_rate"
      ],
      "metadata": {
        "id": "7i7Yr6u9gyxX"
      }
    },
    {
      "cell_type": "code",
      "source": [
        "transaction[:3]"
      ],
      "metadata": {
        "colab": {
          "base_uri": "https://localhost:8080/",
          "height": 337
        },
        "id": "wh43wip9hAKH",
        "outputId": "6ffdcb58-b4ac-4d6b-d15b-620bb2f1eba2"
      },
      "execution_count": null,
      "outputs": [
        {
          "output_type": "execute_result",
          "data": {
            "text/html": [
              "<div>\n",
              "<style scoped>\n",
              "    .dataframe tbody tr th:only-of-type {\n",
              "        vertical-align: middle;\n",
              "    }\n",
              "\n",
              "    .dataframe tbody tr th {\n",
              "        vertical-align: top;\n",
              "    }\n",
              "\n",
              "    .dataframe thead th {\n",
              "        text-align: right;\n",
              "    }\n",
              "</style>\n",
              "<table border=\"1\" class=\"dataframe\">\n",
              "  <thead>\n",
              "    <tr style=\"text-align: right;\">\n",
              "      <th></th>\n",
              "      <th>timestamp</th>\n",
              "      <th>user_id</th>\n",
              "      <th>book_id</th>\n",
              "      <th>country</th>\n",
              "      <th>Book Title</th>\n",
              "      <th>Book Subtitle</th>\n",
              "      <th>Book Author</th>\n",
              "      <th>Book Narrator</th>\n",
              "      <th>Audio Runtime</th>\n",
              "      <th>Audiobook_Type</th>\n",
              "      <th>Categories</th>\n",
              "      <th>Rating</th>\n",
              "      <th>Total No. of Ratings</th>\n",
              "      <th>Price</th>\n",
              "    </tr>\n",
              "  </thead>\n",
              "  <tbody>\n",
              "    <tr>\n",
              "      <th>0</th>\n",
              "      <td>2021-05-01 00:00:01</td>\n",
              "      <td>ad8eca41</td>\n",
              "      <td>1584</td>\n",
              "      <td>Portugal</td>\n",
              "      <td>Sycamore Row</td>\n",
              "      <td>None</td>\n",
              "      <td>John Grisham</td>\n",
              "      <td>Michael Beck</td>\n",
              "      <td>20 hrs and 46 mins</td>\n",
              "      <td>Unabridged Audiobook</td>\n",
              "      <td>Mystery, Thriller &amp; Suspense</td>\n",
              "      <td>4.6</td>\n",
              "      <td>25863.0</td>\n",
              "      <td>$35.00</td>\n",
              "    </tr>\n",
              "    <tr>\n",
              "      <th>1</th>\n",
              "      <td>2021-05-01 00:00:03</td>\n",
              "      <td>561b26c1</td>\n",
              "      <td>829</td>\n",
              "      <td>United States of America</td>\n",
              "      <td>The 5 Love Languages of Children</td>\n",
              "      <td>The Secret to Loving Children Effectively</td>\n",
              "      <td>Gary Chapman</td>\n",
              "      <td>Chris Fabry</td>\n",
              "      <td>5 hrs and 48 mins</td>\n",
              "      <td>Unabridged Audiobook</td>\n",
              "      <td>Relationships, Parenting &amp; Personal Development</td>\n",
              "      <td>4.8</td>\n",
              "      <td>2441.0</td>\n",
              "      <td>$19.59</td>\n",
              "    </tr>\n",
              "    <tr>\n",
              "      <th>2</th>\n",
              "      <td>2021-05-01 00:00:04</td>\n",
              "      <td>81f149e5</td>\n",
              "      <td>1391</td>\n",
              "      <td>Japan</td>\n",
              "      <td>The Guardians</td>\n",
              "      <td>A Novel</td>\n",
              "      <td>John Grisham</td>\n",
              "      <td>Michael Beck</td>\n",
              "      <td>11 hrs and 50 mins</td>\n",
              "      <td>Unabridged Audiobook</td>\n",
              "      <td>Mystery, Thriller &amp; Suspense</td>\n",
              "      <td>4.6</td>\n",
              "      <td>26781.0</td>\n",
              "      <td>$31.50</td>\n",
              "    </tr>\n",
              "  </tbody>\n",
              "</table>\n",
              "</div>"
            ],
            "text/plain": [
              "            timestamp   user_id  book_id  ... Rating Total No. of Ratings    Price\n",
              "0 2021-05-01 00:00:01  ad8eca41     1584  ...    4.6              25863.0  $35.00 \n",
              "1 2021-05-01 00:00:03  561b26c1      829  ...    4.8               2441.0  $19.59 \n",
              "2 2021-05-01 00:00:04  81f149e5     1391  ...    4.6              26781.0  $31.50 \n",
              "\n",
              "[3 rows x 14 columns]"
            ]
          },
          "metadata": {},
          "execution_count": 45
        }
      ]
    },
    {
      "cell_type": "code",
      "source": [
        "# To change 'timestamp' to date \n",
        "# Copy 'timestamp' to new column named 'date'\n",
        "\n",
        "transaction['date'] = transaction['timestamp']"
      ],
      "metadata": {
        "id": "UVJHs4NfhbeZ"
      },
      "execution_count": null,
      "outputs": []
    },
    {
      "cell_type": "code",
      "source": [
        "# Change to date type in both transaction and conversion_rate\n",
        "transaction['date'] = pd.to_datetime(transaction['date']).dt.date\n",
        "conversion_rate['date'] = pd.to_datetime(conversion_rate['date']).dt.date\n",
        "\n",
        "transaction.head()"
      ],
      "metadata": {
        "id": "fXl72e8Mh5PP"
      },
      "execution_count": null,
      "outputs": []
    },
    {
      "cell_type": "code",
      "source": [
        "# JOIN data \n",
        "final_df = transaction.merge(conversion_rate, \n",
        "                             how = \"left\", \n",
        "                             left_on = \"date\",\n",
        "                             right_on = \"date\")"
      ],
      "metadata": {
        "id": "DbgF4auIivcq"
      },
      "execution_count": null,
      "outputs": []
    },
    {
      "cell_type": "code",
      "source": [
        "final_df[:3]"
      ],
      "metadata": {
        "colab": {
          "base_uri": "https://localhost:8080/",
          "height": 337
        },
        "id": "wCbfoTxqjI-n",
        "outputId": "4eceef6b-5e5a-4959-d846-37cd6772b8db"
      },
      "execution_count": null,
      "outputs": [
        {
          "output_type": "execute_result",
          "data": {
            "text/html": [
              "<div>\n",
              "<style scoped>\n",
              "    .dataframe tbody tr th:only-of-type {\n",
              "        vertical-align: middle;\n",
              "    }\n",
              "\n",
              "    .dataframe tbody tr th {\n",
              "        vertical-align: top;\n",
              "    }\n",
              "\n",
              "    .dataframe thead th {\n",
              "        text-align: right;\n",
              "    }\n",
              "</style>\n",
              "<table border=\"1\" class=\"dataframe\">\n",
              "  <thead>\n",
              "    <tr style=\"text-align: right;\">\n",
              "      <th></th>\n",
              "      <th>timestamp</th>\n",
              "      <th>user_id</th>\n",
              "      <th>book_id</th>\n",
              "      <th>country</th>\n",
              "      <th>Book Title</th>\n",
              "      <th>Book Subtitle</th>\n",
              "      <th>Book Author</th>\n",
              "      <th>Book Narrator</th>\n",
              "      <th>Audio Runtime</th>\n",
              "      <th>Audiobook_Type</th>\n",
              "      <th>Categories</th>\n",
              "      <th>Rating</th>\n",
              "      <th>Total No. of Ratings</th>\n",
              "      <th>Price</th>\n",
              "      <th>date</th>\n",
              "      <th>conversion_rate</th>\n",
              "    </tr>\n",
              "  </thead>\n",
              "  <tbody>\n",
              "    <tr>\n",
              "      <th>0</th>\n",
              "      <td>2021-05-01 00:00:01</td>\n",
              "      <td>ad8eca41</td>\n",
              "      <td>1584</td>\n",
              "      <td>Portugal</td>\n",
              "      <td>Sycamore Row</td>\n",
              "      <td>None</td>\n",
              "      <td>John Grisham</td>\n",
              "      <td>Michael Beck</td>\n",
              "      <td>20 hrs and 46 mins</td>\n",
              "      <td>Unabridged Audiobook</td>\n",
              "      <td>Mystery, Thriller &amp; Suspense</td>\n",
              "      <td>4.6</td>\n",
              "      <td>25863.0</td>\n",
              "      <td>$35.00</td>\n",
              "      <td>2021-05-01</td>\n",
              "      <td>31.14</td>\n",
              "    </tr>\n",
              "    <tr>\n",
              "      <th>1</th>\n",
              "      <td>2021-05-01 00:00:03</td>\n",
              "      <td>561b26c1</td>\n",
              "      <td>829</td>\n",
              "      <td>United States of America</td>\n",
              "      <td>The 5 Love Languages of Children</td>\n",
              "      <td>The Secret to Loving Children Effectively</td>\n",
              "      <td>Gary Chapman</td>\n",
              "      <td>Chris Fabry</td>\n",
              "      <td>5 hrs and 48 mins</td>\n",
              "      <td>Unabridged Audiobook</td>\n",
              "      <td>Relationships, Parenting &amp; Personal Development</td>\n",
              "      <td>4.8</td>\n",
              "      <td>2441.0</td>\n",
              "      <td>$19.59</td>\n",
              "      <td>2021-05-01</td>\n",
              "      <td>31.14</td>\n",
              "    </tr>\n",
              "    <tr>\n",
              "      <th>2</th>\n",
              "      <td>2021-05-01 00:00:04</td>\n",
              "      <td>81f149e5</td>\n",
              "      <td>1391</td>\n",
              "      <td>Japan</td>\n",
              "      <td>The Guardians</td>\n",
              "      <td>A Novel</td>\n",
              "      <td>John Grisham</td>\n",
              "      <td>Michael Beck</td>\n",
              "      <td>11 hrs and 50 mins</td>\n",
              "      <td>Unabridged Audiobook</td>\n",
              "      <td>Mystery, Thriller &amp; Suspense</td>\n",
              "      <td>4.6</td>\n",
              "      <td>26781.0</td>\n",
              "      <td>$31.50</td>\n",
              "      <td>2021-05-01</td>\n",
              "      <td>31.14</td>\n",
              "    </tr>\n",
              "  </tbody>\n",
              "</table>\n",
              "</div>"
            ],
            "text/plain": [
              "            timestamp   user_id  book_id  ...    Price        date conversion_rate\n",
              "0 2021-05-01 00:00:01  ad8eca41     1584  ...  $35.00   2021-05-01           31.14\n",
              "1 2021-05-01 00:00:03  561b26c1      829  ...  $19.59   2021-05-01           31.14\n",
              "2 2021-05-01 00:00:04  81f149e5     1391  ...  $31.50   2021-05-01           31.14\n",
              "\n",
              "[3 rows x 16 columns]"
            ]
          },
          "metadata": {},
          "execution_count": 49
        }
      ]
    },
    {
      "cell_type": "code",
      "source": [
        "# Convert 'Price' column from String to Float \n",
        "# Clean $ Dollar sign \n",
        "\n",
        "final_df['Price'] = final_df.apply(lambda x: x['Price'].replace('$',''), axis = 1)"
      ],
      "metadata": {
        "id": "5PnhR5JZjdPI"
      },
      "execution_count": null,
      "outputs": []
    },
    {
      "cell_type": "code",
      "source": [
        "# Convert to Float Type\n",
        "final_df['Price'] = final_df['Price'].astype(float)\n",
        "\n",
        "final_df[:3]"
      ],
      "metadata": {
        "colab": {
          "base_uri": "https://localhost:8080/",
          "height": 337
        },
        "id": "2gLDHXEOkUWW",
        "outputId": "2f8dc960-e249-42b8-9050-eb9f9db750b0"
      },
      "execution_count": null,
      "outputs": [
        {
          "output_type": "execute_result",
          "data": {
            "text/html": [
              "<div>\n",
              "<style scoped>\n",
              "    .dataframe tbody tr th:only-of-type {\n",
              "        vertical-align: middle;\n",
              "    }\n",
              "\n",
              "    .dataframe tbody tr th {\n",
              "        vertical-align: top;\n",
              "    }\n",
              "\n",
              "    .dataframe thead th {\n",
              "        text-align: right;\n",
              "    }\n",
              "</style>\n",
              "<table border=\"1\" class=\"dataframe\">\n",
              "  <thead>\n",
              "    <tr style=\"text-align: right;\">\n",
              "      <th></th>\n",
              "      <th>timestamp</th>\n",
              "      <th>user_id</th>\n",
              "      <th>book_id</th>\n",
              "      <th>country</th>\n",
              "      <th>Book Title</th>\n",
              "      <th>Book Subtitle</th>\n",
              "      <th>Book Author</th>\n",
              "      <th>Book Narrator</th>\n",
              "      <th>Audio Runtime</th>\n",
              "      <th>Audiobook_Type</th>\n",
              "      <th>Categories</th>\n",
              "      <th>Rating</th>\n",
              "      <th>Total No. of Ratings</th>\n",
              "      <th>Price</th>\n",
              "      <th>date</th>\n",
              "      <th>conversion_rate</th>\n",
              "    </tr>\n",
              "  </thead>\n",
              "  <tbody>\n",
              "    <tr>\n",
              "      <th>0</th>\n",
              "      <td>2021-05-01 00:00:01</td>\n",
              "      <td>ad8eca41</td>\n",
              "      <td>1584</td>\n",
              "      <td>Portugal</td>\n",
              "      <td>Sycamore Row</td>\n",
              "      <td>None</td>\n",
              "      <td>John Grisham</td>\n",
              "      <td>Michael Beck</td>\n",
              "      <td>20 hrs and 46 mins</td>\n",
              "      <td>Unabridged Audiobook</td>\n",
              "      <td>Mystery, Thriller &amp; Suspense</td>\n",
              "      <td>4.6</td>\n",
              "      <td>25863.0</td>\n",
              "      <td>35.00</td>\n",
              "      <td>2021-05-01</td>\n",
              "      <td>31.14</td>\n",
              "    </tr>\n",
              "    <tr>\n",
              "      <th>1</th>\n",
              "      <td>2021-05-01 00:00:03</td>\n",
              "      <td>561b26c1</td>\n",
              "      <td>829</td>\n",
              "      <td>United States of America</td>\n",
              "      <td>The 5 Love Languages of Children</td>\n",
              "      <td>The Secret to Loving Children Effectively</td>\n",
              "      <td>Gary Chapman</td>\n",
              "      <td>Chris Fabry</td>\n",
              "      <td>5 hrs and 48 mins</td>\n",
              "      <td>Unabridged Audiobook</td>\n",
              "      <td>Relationships, Parenting &amp; Personal Development</td>\n",
              "      <td>4.8</td>\n",
              "      <td>2441.0</td>\n",
              "      <td>19.59</td>\n",
              "      <td>2021-05-01</td>\n",
              "      <td>31.14</td>\n",
              "    </tr>\n",
              "    <tr>\n",
              "      <th>2</th>\n",
              "      <td>2021-05-01 00:00:04</td>\n",
              "      <td>81f149e5</td>\n",
              "      <td>1391</td>\n",
              "      <td>Japan</td>\n",
              "      <td>The Guardians</td>\n",
              "      <td>A Novel</td>\n",
              "      <td>John Grisham</td>\n",
              "      <td>Michael Beck</td>\n",
              "      <td>11 hrs and 50 mins</td>\n",
              "      <td>Unabridged Audiobook</td>\n",
              "      <td>Mystery, Thriller &amp; Suspense</td>\n",
              "      <td>4.6</td>\n",
              "      <td>26781.0</td>\n",
              "      <td>31.50</td>\n",
              "      <td>2021-05-01</td>\n",
              "      <td>31.14</td>\n",
              "    </tr>\n",
              "  </tbody>\n",
              "</table>\n",
              "</div>"
            ],
            "text/plain": [
              "            timestamp   user_id  book_id  ...  Price        date conversion_rate\n",
              "0 2021-05-01 00:00:01  ad8eca41     1584  ...  35.00  2021-05-01           31.14\n",
              "1 2021-05-01 00:00:03  561b26c1      829  ...  19.59  2021-05-01           31.14\n",
              "2 2021-05-01 00:00:04  81f149e5     1391  ...  31.50  2021-05-01           31.14\n",
              "\n",
              "[3 rows x 16 columns]"
            ]
          },
          "metadata": {},
          "execution_count": 52
        }
      ]
    },
    {
      "cell_type": "code",
      "source": [
        "final_df.dtypes"
      ],
      "metadata": {
        "colab": {
          "base_uri": "https://localhost:8080/"
        },
        "id": "UVDZu2z6ktov",
        "outputId": "6f05bb99-1650-4ab6-e520-086b78864c3c"
      },
      "execution_count": null,
      "outputs": [
        {
          "output_type": "execute_result",
          "data": {
            "text/plain": [
              "timestamp               datetime64[ns]\n",
              "user_id                         object\n",
              "book_id                          int64\n",
              "country                         object\n",
              "Book Title                      object\n",
              "Book Subtitle                   object\n",
              "Book Author                     object\n",
              "Book Narrator                   object\n",
              "Audio Runtime                   object\n",
              "Audiobook_Type                  object\n",
              "Categories                      object\n",
              "Rating                          object\n",
              "Total No. of Ratings           float64\n",
              "Price                          float64\n",
              "date                            object\n",
              "conversion_rate                float64\n",
              "dtype: object"
            ]
          },
          "metadata": {},
          "execution_count": 54
        }
      ]
    },
    {
      "cell_type": "code",
      "source": [
        "# Create new column \"THBPrice\"\n",
        "final_df[\"THBPrice\"] = final_df['Price'] * final_df['conversion_rate']"
      ],
      "metadata": {
        "id": "qSzbfwZVlLkc"
      },
      "execution_count": null,
      "outputs": []
    },
    {
      "cell_type": "code",
      "source": [
        "final_df.tail()"
      ],
      "metadata": {
        "colab": {
          "base_uri": "https://localhost:8080/",
          "height": 486
        },
        "id": "wnySAbzbmCSH",
        "outputId": "0d7aa38f-3569-4b10-8c93-3ba94a0af582"
      },
      "execution_count": null,
      "outputs": [
        {
          "output_type": "execute_result",
          "data": {
            "text/html": [
              "<div>\n",
              "<style scoped>\n",
              "    .dataframe tbody tr th:only-of-type {\n",
              "        vertical-align: middle;\n",
              "    }\n",
              "\n",
              "    .dataframe tbody tr th {\n",
              "        vertical-align: top;\n",
              "    }\n",
              "\n",
              "    .dataframe thead th {\n",
              "        text-align: right;\n",
              "    }\n",
              "</style>\n",
              "<table border=\"1\" class=\"dataframe\">\n",
              "  <thead>\n",
              "    <tr style=\"text-align: right;\">\n",
              "      <th></th>\n",
              "      <th>timestamp</th>\n",
              "      <th>user_id</th>\n",
              "      <th>book_id</th>\n",
              "      <th>country</th>\n",
              "      <th>Book Title</th>\n",
              "      <th>Book Subtitle</th>\n",
              "      <th>Book Author</th>\n",
              "      <th>Book Narrator</th>\n",
              "      <th>Audio Runtime</th>\n",
              "      <th>Audiobook_Type</th>\n",
              "      <th>Categories</th>\n",
              "      <th>Rating</th>\n",
              "      <th>Total No. of Ratings</th>\n",
              "      <th>Price</th>\n",
              "      <th>date</th>\n",
              "      <th>conversion_rate</th>\n",
              "      <th>THBPrice</th>\n",
              "    </tr>\n",
              "  </thead>\n",
              "  <tbody>\n",
              "    <tr>\n",
              "      <th>1998816</th>\n",
              "      <td>2021-07-31 23:59:47</td>\n",
              "      <td>72da1411</td>\n",
              "      <td>600</td>\n",
              "      <td>Portugal</td>\n",
              "      <td>The Time of Contempt</td>\n",
              "      <td>The Witcher, Book 2</td>\n",
              "      <td>Andrzej Sapkowski</td>\n",
              "      <td>Peter Kenny</td>\n",
              "      <td>11 hrs and 55 mins</td>\n",
              "      <td>Unabridged Audiobook</td>\n",
              "      <td>Science Fiction &amp; Fantasy</td>\n",
              "      <td>4.7</td>\n",
              "      <td>14344.0</td>\n",
              "      <td>25.08</td>\n",
              "      <td>2021-07-31</td>\n",
              "      <td>32.887</td>\n",
              "      <td>824.80596</td>\n",
              "    </tr>\n",
              "    <tr>\n",
              "      <th>1998817</th>\n",
              "      <td>2021-07-31 23:59:48</td>\n",
              "      <td>620c27c8</td>\n",
              "      <td>462</td>\n",
              "      <td>Montenegro</td>\n",
              "      <td>Endurance</td>\n",
              "      <td>Shackleton's Incredible Voyage</td>\n",
              "      <td>Alfred Lansing</td>\n",
              "      <td>Simon Prebble</td>\n",
              "      <td>10 hrs and 20 mins</td>\n",
              "      <td>Unabridged Audiobook</td>\n",
              "      <td>History</td>\n",
              "      <td>4.7</td>\n",
              "      <td>18764.0</td>\n",
              "      <td>24.95</td>\n",
              "      <td>2021-07-31</td>\n",
              "      <td>32.887</td>\n",
              "      <td>820.53065</td>\n",
              "    </tr>\n",
              "    <tr>\n",
              "      <th>1998818</th>\n",
              "      <td>2021-07-31 23:59:55</td>\n",
              "      <td>84fe88ab</td>\n",
              "      <td>1656</td>\n",
              "      <td>United States of America</td>\n",
              "      <td>The Spy and the Traitor</td>\n",
              "      <td>The Greatest Espionage Story of the Cold War</td>\n",
              "      <td>Ben Macintyre</td>\n",
              "      <td>John Lee</td>\n",
              "      <td>13 hrs and 20 mins</td>\n",
              "      <td>Unabridged Audiobook</td>\n",
              "      <td>Biographies &amp; Memoirs</td>\n",
              "      <td>4.8</td>\n",
              "      <td>7150.0</td>\n",
              "      <td>31.95</td>\n",
              "      <td>2021-07-31</td>\n",
              "      <td>32.887</td>\n",
              "      <td>1050.73965</td>\n",
              "    </tr>\n",
              "    <tr>\n",
              "      <th>1998819</th>\n",
              "      <td>2021-07-31 23:59:57</td>\n",
              "      <td>fd6cc4fc</td>\n",
              "      <td>522</td>\n",
              "      <td>United States of America</td>\n",
              "      <td>Lilac Girls</td>\n",
              "      <td>A Novel</td>\n",
              "      <td>Martha Hall Kelly</td>\n",
              "      <td>Cassandra Campbell</td>\n",
              "      <td>17 hrs and 30 mins</td>\n",
              "      <td>Unabridged Audiobook</td>\n",
              "      <td>Literature &amp; Fiction</td>\n",
              "      <td>4.7</td>\n",
              "      <td>19401.0</td>\n",
              "      <td>31.50</td>\n",
              "      <td>2021-07-31</td>\n",
              "      <td>32.887</td>\n",
              "      <td>1035.94050</td>\n",
              "    </tr>\n",
              "    <tr>\n",
              "      <th>1998820</th>\n",
              "      <td>2021-07-31 23:59:59</td>\n",
              "      <td>9f4d5e3b</td>\n",
              "      <td>110</td>\n",
              "      <td>United States of America</td>\n",
              "      <td>Unfu*k Yourself</td>\n",
              "      <td>Get Out of Your Head and into Your Life</td>\n",
              "      <td>Gary John Bishop</td>\n",
              "      <td>Gary John Bishop</td>\n",
              "      <td>3 hrs and 24 mins</td>\n",
              "      <td>Unabridged Audiobook</td>\n",
              "      <td>Relationships, Parenting &amp; Personal Development</td>\n",
              "      <td>4.6</td>\n",
              "      <td>73022.0</td>\n",
              "      <td>20.52</td>\n",
              "      <td>2021-07-31</td>\n",
              "      <td>32.887</td>\n",
              "      <td>674.84124</td>\n",
              "    </tr>\n",
              "  </tbody>\n",
              "</table>\n",
              "</div>"
            ],
            "text/plain": [
              "                  timestamp   user_id  ...  conversion_rate    THBPrice\n",
              "1998816 2021-07-31 23:59:47  72da1411  ...           32.887   824.80596\n",
              "1998817 2021-07-31 23:59:48  620c27c8  ...           32.887   820.53065\n",
              "1998818 2021-07-31 23:59:55  84fe88ab  ...           32.887  1050.73965\n",
              "1998819 2021-07-31 23:59:57  fd6cc4fc  ...           32.887  1035.94050\n",
              "1998820 2021-07-31 23:59:59  9f4d5e3b  ...           32.887   674.84124\n",
              "\n",
              "[5 rows x 17 columns]"
            ]
          },
          "metadata": {},
          "execution_count": 57
        }
      ]
    },
    {
      "cell_type": "code",
      "source": [
        "# drop irrelevant column \n",
        "\n",
        "final_df = final_df.drop(\"date\", axis=1)"
      ],
      "metadata": {
        "id": "LdzsHRgimKTa"
      },
      "execution_count": null,
      "outputs": []
    },
    {
      "cell_type": "markdown",
      "source": [
        "## Save to CSV"
      ],
      "metadata": {
        "id": "bUpLPZ7CmdX0"
      }
    },
    {
      "cell_type": "code",
      "source": [
        "final_df.to_csv(\"output.csv\", index=False)"
      ],
      "metadata": {
        "id": "ol-lOOBFmc30"
      },
      "execution_count": null,
      "outputs": []
    }
  ]
}